{
 "cells": [
  {
   "cell_type": "code",
   "execution_count": 1,
   "metadata": {},
   "outputs": [],
   "source": [
    "from controller import RealEstateController\n",
    "from model import vdLindenModel, vbtModel\n",
    "import yaml\n",
    "import time\n",
    "import re\n",
    "from bs4 import BeautifulSoup\n",
    "import requests\n",
    "\n"
   ]
  },
  {
   "cell_type": "code",
   "execution_count": 2,
   "metadata": {},
   "outputs": [],
   "source": [
    "# Load the config.yaml file\n",
    "config_path = '../config.yaml'  \n",
    "secrets_path = '../secrets.yaml'  \n",
    "\n",
    "# Extract URL and email from config\n",
    "with open(config_path, 'r') as file:\n",
    "    config = yaml.safe_load(file)\n",
    "\n",
    "# Extract the password from secrets.yaml\n",
    "with open(secrets_path, 'r') as file:\n",
    "    secrets = yaml.safe_load(file)\n",
    "\n",
    "# Extract the URL and email credentials from the config and secrets\n",
    "vdl_url = config['urls']['van der linden']\n",
    "vbt_url = config['urls']['vb en t']\n",
    "\n",
    "# Extract email credentials\n",
    "email_credentials = {\n",
    "    'from': config['email']['from'],\n",
    "    'to': config['email']['to'],\n",
    "    'smtp_server': config['email']['smtp_server'],\n",
    "    'smtp_port': config['email']['smtp_port'],\n",
    "    'password': secrets['email']['password'],\n",
    "}\n"
   ]
  },
  {
   "cell_type": "code",
   "execution_count": 3,
   "metadata": {},
   "outputs": [],
   "source": [
    "\n",
    "vdl_houses = vdLindenModel(vdl_url)\n",
    "vdl_controller = RealEstateController(vdl_houses, email_credentials)\n",
    "vdl_controller.update_data()\n"
   ]
  },
  {
   "cell_type": "code",
   "execution_count": 4,
   "metadata": {},
   "outputs": [],
   "source": [
    "vbt_houses = vbtModel(vbt_url)\n",
    "vbt_controller = RealEstateController(vbt_houses, email_credentials)\n",
    "vbt_controller.update_data()\n"
   ]
  },
  {
   "cell_type": "code",
   "execution_count": null,
   "metadata": {},
   "outputs": [],
   "source": []
  },
  {
   "cell_type": "code",
   "execution_count": null,
   "metadata": {},
   "outputs": [],
   "source": []
  }
 ],
 "metadata": {
  "kernelspec": {
   "display_name": "Python 3",
   "language": "python",
   "name": "python3"
  },
  "language_info": {
   "codemirror_mode": {
    "name": "ipython",
    "version": 3
   },
   "file_extension": ".py",
   "mimetype": "text/x-python",
   "name": "python",
   "nbconvert_exporter": "python",
   "pygments_lexer": "ipython3",
   "version": "3.12.1"
  }
 },
 "nbformat": 4,
 "nbformat_minor": 2
}
